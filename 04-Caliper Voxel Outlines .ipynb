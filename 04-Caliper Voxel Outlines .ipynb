{
 "cells": [
  {
   "attachments": {},
   "cell_type": "markdown",
   "metadata": {},
   "source": [
    "## 04 - Caliper Voxel Method\n",
    "This workflow tests a neighbour-cell based outlining method loosely based on marching squares.\n",
    "I also switched out the hough outlining for a [rotating calipers](https://en.wikipedia.org/wiki/Rotating_calipers) inspired method for determining the dominant angles of a building.\n",
    "\n",
    "*This method is MUCH faster. We're talking 100x over the traditional hough / convex hull methods.* It however, needs more work. The results are too 'voxelated'. Future work will go into mixing the methods in this notebook with those in notebook 03 to simplify rectilinear geometry where possible whiling maintaining angled geometry.\n",
    "\n",
    "I also relied on RhinoCompute for the output."
   ]
  },
  {
   "cell_type": "code",
   "execution_count": 1,
   "metadata": {},
   "outputs": [],
   "source": [
    "from code.clouds import SiteCloud, BldgCloud\n",
    "import numpy as np\n",
    "from matplotlib import pyplot as plt\n",
    "\n",
    "import rhino3dm as r3d\n",
    "import compute_rhino3d.Util\n",
    "\n",
    "compute_rhino3d.Util.url = \"http://localhost:8081/\"\n"
   ]
  },
  {
   "attachments": {},
   "cell_type": "markdown",
   "metadata": {},
   "source": [
    "### Clouding formatting with revised site cloud class"
   ]
  },
  {
   "cell_type": "code",
   "execution_count": 2,
   "metadata": {},
   "outputs": [],
   "source": [
    "test_cld = SiteCloud('data/small_bldgs.las')"
   ]
  },
  {
   "attachments": {},
   "cell_type": "markdown",
   "metadata": {},
   "source": [
    "ASPRS classification in LAS file"
   ]
  },
  {
   "cell_type": "code",
   "execution_count": 3,
   "metadata": {},
   "outputs": [
    {
     "data": {
      "text/plain": [
       "['unclassified', 'ground', 'buildings']"
      ]
     },
     "execution_count": 3,
     "metadata": {},
     "output_type": "execute_result"
    }
   ],
   "source": [
    "test_cld.available_classifs"
   ]
  },
  {
   "attachments": {},
   "cell_type": "markdown",
   "metadata": {},
   "source": [
    "Translating the geometry to 0,0,0"
   ]
  },
  {
   "cell_type": "code",
   "execution_count": 4,
   "metadata": {},
   "outputs": [],
   "source": [
    "test_cld.translate_cloud()"
   ]
  },
  {
   "attachments": {},
   "cell_type": "markdown",
   "metadata": {},
   "source": [
    "Grabbing the buildings and clustering in plan."
   ]
  },
  {
   "cell_type": "code",
   "execution_count": 5,
   "metadata": {},
   "outputs": [],
   "source": [
    "bldgs = test_cld.buildings"
   ]
  },
  {
   "cell_type": "code",
   "execution_count": 6,
   "metadata": {},
   "outputs": [],
   "source": [
    "split_bldgs = test_cld.cluster_in_plan('buildings')"
   ]
  },
  {
   "cell_type": "code",
   "execution_count": 7,
   "metadata": {},
   "outputs": [
    {
     "data": {
      "text/plain": [
       "(124819, 3)"
      ]
     },
     "execution_count": 7,
     "metadata": {},
     "output_type": "execute_result"
    }
   ],
   "source": [
    "test_bldg = split_bldgs[4]\n",
    "test_bldg.shape"
   ]
  },
  {
   "attachments": {},
   "cell_type": "markdown",
   "metadata": {},
   "source": [
    "## Generating building outlines\n",
    "Using new bldg cloud class that implements neighbourhood look up for edges and calliper method for dominant angles"
   ]
  },
  {
   "cell_type": "code",
   "execution_count": 8,
   "metadata": {},
   "outputs": [],
   "source": [
    "bldg_cld = BldgCloud(test_bldg, voxel_interval= 0.75)"
   ]
  },
  {
   "cell_type": "code",
   "execution_count": 9,
   "metadata": {},
   "outputs": [],
   "source": [
    "corner_pts = bldg_cld.order_pts(bldg_cld.level_outlines)"
   ]
  },
  {
   "cell_type": "code",
   "execution_count": 10,
   "metadata": {},
   "outputs": [
    {
     "data": {
      "text/plain": [
       "array([ 1.875,  2.625,  3.375,  4.125,  4.875,  5.625,  6.375,  7.125,\n",
       "        7.875,  8.625,  9.375, 10.125, 10.875, 11.625, 12.375, 13.125,\n",
       "       13.875, 14.625, 15.375, 16.125, 16.875, 17.625, 18.375, 19.125,\n",
       "       19.875, 20.625, 21.375, 22.125, 22.875, 23.625, 24.375, 25.125,\n",
       "       25.875, 26.625, 27.375, 28.125])"
      ]
     },
     "execution_count": 10,
     "metadata": {},
     "output_type": "execute_result"
    }
   ],
   "source": [
    "bldg_cld.voxel_cntrs[2]"
   ]
  },
  {
   "cell_type": "code",
   "execution_count": 11,
   "metadata": {},
   "outputs": [
    {
     "data": {
      "text/plain": [
       "150.5"
      ]
     },
     "execution_count": 11,
     "metadata": {},
     "output_type": "execute_result"
    }
   ],
   "source": [
    "bldg_cld.dom_angle"
   ]
  },
  {
   "attachments": {},
   "cell_type": "markdown",
   "metadata": {},
   "source": [
    "## Rhino Polylines and Export\n",
    "---"
   ]
  },
  {
   "cell_type": "code",
   "execution_count": 12,
   "metadata": {},
   "outputs": [
    {
     "data": {
      "text/plain": [
       "True"
      ]
     },
     "execution_count": 12,
     "metadata": {},
     "output_type": "execute_result"
    }
   ],
   "source": [
    "model = r3d.File3dm()\n",
    "\n",
    "\n",
    "\n",
    "rot_angle = np.deg2rad(bldg_cld.dom_angle * -1)\n",
    "\n",
    "for i in range(len(corner_pts)):\n",
    "    z_index = bldg_cld.unique_levels[i]\n",
    "    elevation = bldg_cld.voxel_cntrs[2][z_index]\n",
    "    loop_crvs = []\n",
    "    for loop in corner_pts[i]:\n",
    "        loop_points = []\n",
    "        for item in loop:\n",
    "            column = item // bldg_cld.histogram.shape[2]\n",
    "            row = item % bldg_cld.histogram.shape[2]\n",
    "\n",
    "            x_coord = bldg_cld.voxel_cntrs[0][column]\n",
    "            y_coord = bldg_cld.voxel_cntrs[1][row]\n",
    "\n",
    "            x_rotate = np.cos(rot_angle) * x_coord - np.sin(rot_angle) * y_coord\n",
    "            y_rotate = np.sin(rot_angle) * x_coord + np.cos(rot_angle) * y_coord\n",
    "\n",
    "\n",
    "            point = r3d.Point3d(x_rotate, y_rotate, elevation)\n",
    "\n",
    "\n",
    "            loop_points.append(point)\n",
    "        \n",
    "        crv_loop = r3d.Polyline(loop_points)\n",
    "        model.Objects.AddPolyline(crv_loop)\n",
    "        loop_crvs.append(crv_loop)\n",
    "\n",
    "model.Write('test.3dm')\n",
    "\n"
   ]
  },
  {
   "attachments": {},
   "cell_type": "markdown",
   "metadata": {},
   "source": [
    "The output when extruded looks like this:\n",
    "![calipers and voxel method](data/images/06-calipers%20and%20voxel.png)"
   ]
  },
  {
   "attachments": {},
   "cell_type": "markdown",
   "metadata": {},
   "source": []
  }
 ],
 "metadata": {
  "kernelspec": {
   "display_name": "venv",
   "language": "python",
   "name": "python3"
  },
  "language_info": {
   "codemirror_mode": {
    "name": "ipython",
    "version": 3
   },
   "file_extension": ".py",
   "mimetype": "text/x-python",
   "name": "python",
   "nbconvert_exporter": "python",
   "pygments_lexer": "ipython3",
   "version": "3.8.10"
  },
  "orig_nbformat": 4,
  "vscode": {
   "interpreter": {
    "hash": "209272e1c5c7e0831f8782b96159c74d463de93c8226e33a01bb32c8c4be63db"
   }
  }
 },
 "nbformat": 4,
 "nbformat_minor": 2
}
