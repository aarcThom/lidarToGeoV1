{
 "cells": [
  {
   "cell_type": "code",
   "execution_count": 24,
   "metadata": {},
   "outputs": [],
   "source": [
    "import laspy\n",
    "import open3d as o3d\n",
    "import numpy as np\n",
    "from matplotlib import pyplot as plt\n",
    "from math import ceil, floor, fabs\n",
    "from scipy.signal import savgol_filter, find_peaks"
   ]
  },
  {
   "attachments": {},
   "cell_type": "markdown",
   "metadata": {},
   "source": [
    "### LAS file formatting\n",
    "---"
   ]
  },
  {
   "cell_type": "code",
   "execution_count": 3,
   "metadata": {},
   "outputs": [
    {
     "data": {
      "text/plain": [
       "<LasData(1.4, point fmt: <PointFormat(6, 0 bytes of extra dims)>, 1411906 points, 2 vlrs)>"
      ]
     },
     "execution_count": 3,
     "metadata": {},
     "output_type": "execute_result"
    }
   ],
   "source": [
    "input_las = laspy.read('/home/thomas/aarc-repos/lidar_roof_generator/test_clouds/small_bldgs.las')\n",
    "input_las"
   ]
  },
  {
   "attachments": {},
   "cell_type": "markdown",
   "metadata": {},
   "source": [
    "Getting info from the header file"
   ]
  },
  {
   "cell_type": "code",
   "execution_count": 4,
   "metadata": {},
   "outputs": [
    {
     "data": {
      "text/plain": [
       "82.75"
      ]
     },
     "execution_count": 4,
     "metadata": {},
     "output_type": "execute_result"
    }
   ],
   "source": [
    "input_las.header.z_min"
   ]
  },
  {
   "attachments": {},
   "cell_type": "markdown",
   "metadata": {},
   "source": [
    "Creating a new LAS file with the same format as our input Las file."
   ]
  },
  {
   "cell_type": "code",
   "execution_count": 5,
   "metadata": {},
   "outputs": [
    {
     "data": {
      "text/plain": [
       "<LasData(1.4, point fmt: <PointFormat(6, 0 bytes of extra dims)>, 0 points, 0 vlrs)>"
      ]
     },
     "execution_count": 5,
     "metadata": {},
     "output_type": "execute_result"
    }
   ],
   "source": [
    "buildings_lidar = laspy.create(point_format = input_las.header.point_format, file_version = input_las.header.version)\n",
    "buildings_lidar\n"
   ]
  },
  {
   "attachments": {},
   "cell_type": "markdown",
   "metadata": {},
   "source": [
    "Filtering the buildings classification (6) into the newly created Las file"
   ]
  },
  {
   "cell_type": "code",
   "execution_count": 6,
   "metadata": {},
   "outputs": [
    {
     "data": {
      "text/plain": [
       "84.41"
      ]
     },
     "execution_count": 6,
     "metadata": {},
     "output_type": "execute_result"
    }
   ],
   "source": [
    "buildings_lidar.points = input_las.points[input_las.classification == 6]\n",
    "buildings_lidar.header.z_min"
   ]
  },
  {
   "attachments": {},
   "cell_type": "markdown",
   "metadata": {},
   "source": [
    "Writing the new buildings lidar file to new las file"
   ]
  },
  {
   "cell_type": "code",
   "execution_count": 7,
   "metadata": {},
   "outputs": [],
   "source": [
    "#buildings_lidar.write('/home/thomas/aarc-repos/lidar_roof_generator/test_clouds/buildings.las')"
   ]
  },
  {
   "attachments": {},
   "cell_type": "markdown",
   "metadata": {},
   "source": [
    "Converting the buildings lidar to a Numpy 3d array\n",
    "\n",
    "*NOTE: CONVERTING TO NUMPY 3D ARRAY CONVERTS TO CM. NEED TO ENSURE YOU HAVE METERS. HENCE THE DIVIDE BY 100 BELOW*"
   ]
  },
  {
   "cell_type": "code",
   "execution_count": 8,
   "metadata": {},
   "outputs": [
    {
     "data": {
      "text/plain": [
       "array([[365.48, 159.77, 104.09],\n",
       "       [366.8 , 159.64, 101.53],\n",
       "       [365.2 , 159.81, 103.61],\n",
       "       ...,\n",
       "       [298.83, 200.  , 102.64],\n",
       "       [334.87, 200.  , 105.6 ],\n",
       "       [310.27, 200.  , 102.28]])"
      ]
     },
     "execution_count": 8,
     "metadata": {},
     "output_type": "execute_result"
    }
   ],
   "source": [
    "buildings_points = np.stack([buildings_lidar.X /100, buildings_lidar.Y /100, buildings_lidar.Z /100], axis= 0).transpose((1,0))\n",
    "buildings_points"
   ]
  },
  {
   "attachments": {},
   "cell_type": "markdown",
   "metadata": {},
   "source": [
    "### Site cloud cleaning and processing\n",
    "\n",
    "---"
   ]
  },
  {
   "cell_type": "code",
   "execution_count": 20,
   "metadata": {},
   "outputs": [],
   "source": [
    "geom = o3d.geometry.PointCloud()\n",
    "geom.points = o3d.utility.Vector3dVector(buildings_points)\n",
    "o3d.visualization.draw_geometries([geom])"
   ]
  },
  {
   "attachments": {},
   "cell_type": "markdown",
   "metadata": {},
   "source": [
    "The LAS file after being sorted by ASPR classification:\n",
    "\n",
    "![ASPR CLassification](data/images/01-site.png)"
   ]
  },
  {
   "attachments": {},
   "cell_type": "markdown",
   "metadata": {},
   "source": [
    "Converting Numpy array to Open3D pointcloud"
   ]
  },
  {
   "cell_type": "code",
   "execution_count": 10,
   "metadata": {},
   "outputs": [
    {
     "data": {
      "text/plain": [
       "PointCloud with 635633 points."
      ]
     },
     "execution_count": 10,
     "metadata": {},
     "output_type": "execute_result"
    }
   ],
   "source": [
    "pcd = o3d.geometry.PointCloud()\n",
    "pcd.points = o3d.utility.Vector3dVector(buildings_points)\n",
    "pcd"
   ]
  },
  {
   "attachments": {},
   "cell_type": "markdown",
   "metadata": {},
   "source": [
    "Computing point cloud normals - See [this link](http://www.open3d.org/docs/0.9.0/tutorial/Basic/pointcloud.html#vertex-normal-estimation)"
   ]
  },
  {
   "cell_type": "code",
   "execution_count": 11,
   "metadata": {},
   "outputs": [],
   "source": [
    "pcd.estimate_normals(search_param=o3d.geometry.KDTreeSearchParamHybrid(radius=10, max_nn=100))\n",
    "# KDtree parameters, radius 1 = 1m, max_nn means neighbours to be considered for normal calc\n",
    "\n",
    "o3d.visualization.draw_geometries([pcd])"
   ]
  },
  {
   "attachments": {},
   "cell_type": "markdown",
   "metadata": {},
   "source": [
    "Pointcloud normals back to numpy"
   ]
  },
  {
   "cell_type": "code",
   "execution_count": 12,
   "metadata": {},
   "outputs": [
    {
     "data": {
      "text/plain": [
       "array([0.39263132, 0.75299184, 0.06093856, ..., 0.89400803, 0.94118862,\n",
       "       0.99984255])"
      ]
     },
     "execution_count": 12,
     "metadata": {},
     "output_type": "execute_result"
    }
   ],
   "source": [
    "normals_z = np.absolute(np.asarray(pcd.normals)[:,2])\n",
    "normals_z"
   ]
  },
  {
   "attachments": {},
   "cell_type": "markdown",
   "metadata": {},
   "source": [
    "Filtering Points based on normal z-value"
   ]
  },
  {
   "cell_type": "code",
   "execution_count": 21,
   "metadata": {},
   "outputs": [],
   "source": [
    "#creating a bit mask on numpy\n",
    "vert_tolerance = 0.1\n",
    "vert_bitmask = np.greater(normals_z, vert_tolerance)\n",
    "\n",
    "#applying bitmask\n",
    "filtered_pts = buildings_points[vert_bitmask]\n",
    "\n",
    "pcd = o3d.geometry.PointCloud()\n",
    "pcd.points = o3d.utility.Vector3dVector(filtered_pts)\n",
    "o3d.visualization.draw_geometries([pcd])\n"
   ]
  },
  {
   "attachments": {},
   "cell_type": "markdown",
   "metadata": {},
   "source": [
    "Vertical removed based on normals. Noise is cleaned in next step.\n",
    "\n",
    "![Remove walls](data/images/02-vertical%20removed.png)"
   ]
  },
  {
   "attachments": {},
   "cell_type": "markdown",
   "metadata": {},
   "source": [
    "Statistical Outlier Removal"
   ]
  },
  {
   "cell_type": "code",
   "execution_count": 14,
   "metadata": {},
   "outputs": [],
   "source": [
    "clean_cloud, ix = pcd.remove_statistical_outlier(nb_neighbors=20, std_ratio=3.0) #remove noise\n",
    "clean_pts = np.asarray(clean_cloud.points).copy() #MAKE SURE YOU MAKE A COPY\n"
   ]
  },
  {
   "attachments": {},
   "cell_type": "markdown",
   "metadata": {},
   "source": [
    "### Sitecloud clustering\n",
    "---"
   ]
  },
  {
   "cell_type": "code",
   "execution_count": 15,
   "metadata": {},
   "outputs": [],
   "source": [
    "from random import random\n",
    "flat_pts = np.asarray(pcd.points)\n",
    "flat_pts[:,2] = 0\n",
    "\n",
    "#creating the new cloud from the flat points\n",
    "flat_cloud = o3d.geometry.PointCloud()\n",
    "flat_cloud.points = o3d.utility.Vector3dVector(flat_pts)\n",
    "\n",
    "clusters = np.asarray(flat_cloud.cluster_dbscan(1.5, 20)) #the assigned cluster by point - PARAMETERS ARE DENSITY AND NUM OF POINTS. SO 1,10 IS A MIN. DENSITY OF 10PTS/SQ.M\n",
    "#really in the above, the main parameter that matters is the first one. It more or less defines the gap between buildings.\n",
    "cluster_labels = np.unique(clusters) # the unique cluster labels"
   ]
  },
  {
   "cell_type": "code",
   "execution_count": 22,
   "metadata": {},
   "outputs": [],
   "source": [
    "pt_clouds=[]\n",
    "clustered_bldg_pts = []\n",
    "\n",
    "for label in cluster_labels:\n",
    "    cluster_cloud = o3d.geometry.PointCloud()\n",
    "    cluster_pts = filtered_pts[clusters == label]\n",
    "    clustered_bldg_pts.append(cluster_pts)\n",
    "\n",
    "    cluster_cloud.points = o3d.utility.Vector3dVector(cluster_pts)\n",
    "    cluster_cloud.paint_uniform_color([random(), random(), random()])\n",
    "    pt_clouds.append(cluster_cloud)\n",
    "\n",
    "\n",
    "o3d.visualization.draw_geometries(pt_clouds)"
   ]
  },
  {
   "attachments": {},
   "cell_type": "markdown",
   "metadata": {},
   "source": [
    "Buildings are clustered in plan.\n",
    "\n",
    "![clustering](data/images/03-clustering.png)"
   ]
  },
  {
   "attachments": {},
   "cell_type": "markdown",
   "metadata": {},
   "source": [
    "### Vertical binning function per building\n",
    "___"
   ]
  },
  {
   "cell_type": "code",
   "execution_count": 17,
   "metadata": {},
   "outputs": [
    {
     "data": {
      "image/png": "[encoded data removed]",
      "text/plain": [
       "<Figure size 640x480 with 1 Axes>"
      ]
     },
     "metadata": {},
     "output_type": "display_data"
    }
   ],
   "source": [
    "test_cloud = clustered_bldg_pts[3]\n",
    "test_cloud_z = test_cloud[:,2]\n",
    "\n",
    "max_elev = ceil(np.max(test_cloud_z))\n",
    "min_elev = floor(np.min(test_cloud_z))\n",
    "\n",
    "# create a range of numbers for binning every 5 cm\n",
    "elev_bins = np.arange(min_elev, max_elev + 0.05, 0.05)\n",
    "\n",
    "#bin the z values\n",
    "bin_indices = np.digitize(test_cloud_z, elev_bins)\n",
    "\n",
    "#how many values captured in each bin?\n",
    "count_per_bin = np.zeros_like(elev_bins, dtype=int)\n",
    "for index in bin_indices:\n",
    "    count_per_bin[index] = count_per_bin[index] + 1\n",
    "\n",
    "#filtering the data with savgol\n",
    "filter_variance = savgol_filter(count_per_bin,10,3)\n",
    "\n",
    "#finding the peaks indices\n",
    "roof_levels = find_peaks(count_per_bin, prominence=100)[0]\n",
    "\n",
    "#finding the peaks\n",
    "peak_elevations = np.asarray([elev_bins[x] for x in roof_levels])\n",
    "\n",
    "#the below plot shows how many points per level\n",
    "plt.plot(elev_bins, count_per_bin)\n",
    "\n",
    "for index in roof_levels:\n",
    "    plt.axvline(x=elev_bins[index], color= 'red')"
   ]
  },
  {
   "cell_type": "code",
   "execution_count": 23,
   "metadata": {},
   "outputs": [],
   "source": [
    "#finding the closest peak level for each point AND index of peak level - see: https://stackoverflow.com/a/2566508\n",
    "def find_nearest(array,value):\n",
    "    idx = np.searchsorted(array, value, side=\"left\")\n",
    "    if idx > 0 and (idx == len(array) or fabs(value - array[idx-1]) < fabs(value - array[idx])):\n",
    "        return array[idx-1], idx-1\n",
    "    else:\n",
    "        return array[idx], idx\n",
    "\n",
    "elev_index = np.empty_like(test_cloud_z, dtype=int)\n",
    "#replacing the z values with the peak values and recording index of peak value\n",
    "for i in range(len(test_cloud)):\n",
    "    nearest_peak_elev, nearest_peak_ix = find_nearest(peak_elevations, test_cloud_z[i])\n",
    "    test_cloud[i,2] = nearest_peak_elev\n",
    "    elev_index[i] = nearest_peak_ix\n",
    "\n",
    "#splitting horizontal surfaces up by index\n",
    "unique_elev_indices = np.unique(elev_index)\n",
    "\n",
    "#masks per level\n",
    "roof_masks=[]\n",
    "for index in unique_elev_indices:\n",
    "    roof_mask = (elev_index == index)*1\n",
    "    roof_masks.append(roof_mask)\n",
    "\n",
    "\n",
    "#cumulative masks to bring all points above down to certain level\n",
    "merged_levels = []\n",
    "merged_clouds_merged = []\n",
    "for index in unique_elev_indices:\n",
    "    base_array = np.zeros_like(roof_masks[0], dtype=int)\n",
    "    \n",
    "    for mask in roof_masks[index:]:\n",
    "        base_array = np.add(base_array, mask)\n",
    "    \n",
    "    cumulative_mask = (base_array > 0)\n",
    "\n",
    "    flattened_level = test_cloud[cumulative_mask]\n",
    "    flattened_level[:,2] = peak_elevations[index]\n",
    "\n",
    "\n",
    "    test_cloud_merged = o3d.geometry.PointCloud()\n",
    "    test_cloud_merged.points = o3d.utility.Vector3dVector(flattened_level)\n",
    "\n",
    "    test_cloud_merged.paint_uniform_color([random(), random(), random()])\n",
    "    merged_clouds_merged.append(test_cloud_merged)\n",
    "\n",
    "    merged_levels.append(flattened_level)\n",
    "\n",
    "o3d.visualization.draw_geometries(merged_clouds_merged)"
   ]
  },
  {
   "attachments": {},
   "cell_type": "markdown",
   "metadata": {},
   "source": [
    "Building is clustered in elevation. Ready for tracing\n",
    "\n",
    "![elevation clustering](data/images/04-vertical%20binning.png)"
   ]
  }
 ],
 "metadata": {
  "kernelspec": {
   "display_name": "Python 3.8.10 ('venv': venv)",
   "language": "python",
   "name": "python3"
  },
  "language_info": {
   "codemirror_mode": {
    "name": "ipython",
    "version": 3
   },
   "file_extension": ".py",
   "mimetype": "text/x-python",
   "name": "python",
   "nbconvert_exporter": "python",
   "pygments_lexer": "ipython3",
   "version": "3.8.10"
  },
  "orig_nbformat": 4,
  "vscode": {
   "interpreter": {
    "hash": "209272e1c5c7e0831f8782b96159c74d463de93c8226e33a01bb32c8c4be63db"
   }
  }
 },
 "nbformat": 4,
 "nbformat_minor": 2
}
